{
 "cells": [
  {
   "cell_type": "markdown",
   "metadata": {},
   "source": [
    "## 0. 필요 라이브러리 import"
   ]
  },
  {
   "cell_type": "code",
   "execution_count": 1,
   "metadata": {},
   "outputs": [],
   "source": [
    "import pandas as pd\n",
    "from google.oauth2 import service_account\n",
    "from google.cloud import bigquery"
   ]
  },
  {
   "cell_type": "markdown",
   "metadata": {},
   "source": [
    "## 1. Pandas 라이브러리를 활용하여 BigQuery 다루기"
   ]
  },
  {
   "cell_type": "markdown",
   "metadata": {},
   "source": [
    "#### 1-1) GCP 권한 인증"
   ]
  },
  {
   "cell_type": "code",
   "execution_count": 2,
   "metadata": {},
   "outputs": [],
   "source": [
    "# 현재 작업중인 노트북을 기준으로 상대경로 입력\n",
    "JSON_KEY_PATH = \"sa_key/sprintda05_DE_key.json\"\n",
    "\n",
    "credentials = service_account.Credentials.from_service_account_file(JSON_KEY_PATH)"
   ]
  },
  {
   "cell_type": "markdown",
   "metadata": {},
   "source": [
    "### 1-2) 고정값 정의"
   ]
  },
  {
   "cell_type": "code",
   "execution_count": 3,
   "metadata": {},
   "outputs": [
    {
     "data": {
      "text/plain": [
       "'SELECT * FROM sprintda05-hyunsoo.sprint_pokemon.pokemon'"
      ]
     },
     "execution_count": 3,
     "metadata": {},
     "output_type": "execute_result"
    }
   ],
   "source": [
    "project_id = 'sprintda05-hyunsoo'\n",
    "dataset = 'sprint_pokemon'\n",
    "table = 'pokemon'\n",
    "location = 'asia-northeast3'\n",
    "query = f\"SELECT * FROM {project_id}.{dataset}.{table}\"\n",
    "\n",
    "query"
   ]
  },
  {
   "cell_type": "markdown",
   "metadata": {},
   "source": [
    "#### 1-3) 데이터 읽기"
   ]
  },
  {
   "cell_type": "code",
   "execution_count": 5,
   "metadata": {},
   "outputs": [
    {
     "data": {
      "text/html": [
       "<div>\n",
       "<style scoped>\n",
       "    .dataframe tbody tr th:only-of-type {\n",
       "        vertical-align: middle;\n",
       "    }\n",
       "\n",
       "    .dataframe tbody tr th {\n",
       "        vertical-align: top;\n",
       "    }\n",
       "\n",
       "    .dataframe thead th {\n",
       "        text-align: right;\n",
       "    }\n",
       "</style>\n",
       "<table border=\"1\" class=\"dataframe\">\n",
       "  <thead>\n",
       "    <tr style=\"text-align: right;\">\n",
       "      <th></th>\n",
       "      <th>id</th>\n",
       "      <th>kor_name</th>\n",
       "      <th>eng_name</th>\n",
       "      <th>type1</th>\n",
       "      <th>type2</th>\n",
       "      <th>total</th>\n",
       "      <th>hp</th>\n",
       "      <th>attack</th>\n",
       "      <th>defense</th>\n",
       "      <th>special_attack</th>\n",
       "      <th>special_defense</th>\n",
       "      <th>speed</th>\n",
       "      <th>generation</th>\n",
       "      <th>is_legendary</th>\n",
       "    </tr>\n",
       "  </thead>\n",
       "  <tbody>\n",
       "    <tr>\n",
       "      <th>0</th>\n",
       "      <td>1</td>\n",
       "      <td>이상해씨</td>\n",
       "      <td>Bulbasaur</td>\n",
       "      <td>Grass</td>\n",
       "      <td>Poison</td>\n",
       "      <td>318</td>\n",
       "      <td>45</td>\n",
       "      <td>49</td>\n",
       "      <td>49</td>\n",
       "      <td>65</td>\n",
       "      <td>65</td>\n",
       "      <td>45</td>\n",
       "      <td>1</td>\n",
       "      <td>False</td>\n",
       "    </tr>\n",
       "    <tr>\n",
       "      <th>1</th>\n",
       "      <td>2</td>\n",
       "      <td>이상해풀</td>\n",
       "      <td>Ivysaur</td>\n",
       "      <td>Grass</td>\n",
       "      <td>Poison</td>\n",
       "      <td>405</td>\n",
       "      <td>60</td>\n",
       "      <td>62</td>\n",
       "      <td>63</td>\n",
       "      <td>80</td>\n",
       "      <td>80</td>\n",
       "      <td>60</td>\n",
       "      <td>1</td>\n",
       "      <td>False</td>\n",
       "    </tr>\n",
       "    <tr>\n",
       "      <th>2</th>\n",
       "      <td>3</td>\n",
       "      <td>이상해꽃</td>\n",
       "      <td>Venusaur</td>\n",
       "      <td>Grass</td>\n",
       "      <td>Poison</td>\n",
       "      <td>525</td>\n",
       "      <td>80</td>\n",
       "      <td>82</td>\n",
       "      <td>83</td>\n",
       "      <td>100</td>\n",
       "      <td>100</td>\n",
       "      <td>80</td>\n",
       "      <td>1</td>\n",
       "      <td>False</td>\n",
       "    </tr>\n",
       "    <tr>\n",
       "      <th>3</th>\n",
       "      <td>4</td>\n",
       "      <td>파이리</td>\n",
       "      <td>Charmander</td>\n",
       "      <td>Fire</td>\n",
       "      <td>None</td>\n",
       "      <td>309</td>\n",
       "      <td>39</td>\n",
       "      <td>52</td>\n",
       "      <td>43</td>\n",
       "      <td>60</td>\n",
       "      <td>50</td>\n",
       "      <td>65</td>\n",
       "      <td>1</td>\n",
       "      <td>False</td>\n",
       "    </tr>\n",
       "    <tr>\n",
       "      <th>4</th>\n",
       "      <td>5</td>\n",
       "      <td>리자드</td>\n",
       "      <td>Charmeleon</td>\n",
       "      <td>Fire</td>\n",
       "      <td>None</td>\n",
       "      <td>405</td>\n",
       "      <td>58</td>\n",
       "      <td>64</td>\n",
       "      <td>58</td>\n",
       "      <td>80</td>\n",
       "      <td>65</td>\n",
       "      <td>80</td>\n",
       "      <td>1</td>\n",
       "      <td>False</td>\n",
       "    </tr>\n",
       "  </tbody>\n",
       "</table>\n",
       "</div>"
      ],
      "text/plain": [
       "   id kor_name    eng_name  type1   type2  total  hp  attack  defense  \\\n",
       "0   1     이상해씨   Bulbasaur  Grass  Poison    318  45      49       49   \n",
       "1   2     이상해풀     Ivysaur  Grass  Poison    405  60      62       63   \n",
       "2   3     이상해꽃    Venusaur  Grass  Poison    525  80      82       83   \n",
       "3   4      파이리  Charmander   Fire    None    309  39      52       43   \n",
       "4   5      리자드  Charmeleon   Fire    None    405  58      64       58   \n",
       "\n",
       "   special_attack  special_defense  speed  generation  is_legendary  \n",
       "0              65               65     45           1         False  \n",
       "1              80               80     60           1         False  \n",
       "2             100              100     80           1         False  \n",
       "3              60               50     65           1         False  \n",
       "4              80               65     80           1         False  "
      ]
     },
     "execution_count": 5,
     "metadata": {},
     "output_type": "execute_result"
    }
   ],
   "source": [
    "## 서비스 계정 역할을 '탐색자' -> 'BigQuery 관리자'로 변경\n",
    "\n",
    "df = pd.read_gbq(\n",
    "    query=query,\n",
    "    project_id=project_id,\n",
    "    location=location,\n",
    "    credentials=credentials\n",
    ")\n",
    "\n",
    "df.head()"
   ]
  },
  {
   "cell_type": "markdown",
   "metadata": {},
   "source": [
    "#### 1-4) 데이터 쓰기"
   ]
  },
  {
   "cell_type": "code",
   "execution_count": 7,
   "metadata": {},
   "outputs": [
    {
     "data": {
      "text/html": [
       "<div>\n",
       "<style scoped>\n",
       "    .dataframe tbody tr th:only-of-type {\n",
       "        vertical-align: middle;\n",
       "    }\n",
       "\n",
       "    .dataframe tbody tr th {\n",
       "        vertical-align: top;\n",
       "    }\n",
       "\n",
       "    .dataframe thead th {\n",
       "        text-align: right;\n",
       "    }\n",
       "</style>\n",
       "<table border=\"1\" class=\"dataframe\">\n",
       "  <thead>\n",
       "    <tr style=\"text-align: right;\">\n",
       "      <th></th>\n",
       "      <th>idx</th>\n",
       "      <th>proc_ym</th>\n",
       "      <th>proc_ymd</th>\n",
       "      <th>point</th>\n",
       "    </tr>\n",
       "  </thead>\n",
       "  <tbody>\n",
       "    <tr>\n",
       "      <th>0</th>\n",
       "      <td>96465</td>\n",
       "      <td>202306</td>\n",
       "      <td>20230624</td>\n",
       "      <td>1000</td>\n",
       "    </tr>\n",
       "    <tr>\n",
       "      <th>1</th>\n",
       "      <td>96465</td>\n",
       "      <td>202306</td>\n",
       "      <td>20230624</td>\n",
       "      <td>500</td>\n",
       "    </tr>\n",
       "    <tr>\n",
       "      <th>2</th>\n",
       "      <td>87940</td>\n",
       "      <td>202304</td>\n",
       "      <td>20230405</td>\n",
       "      <td>2000</td>\n",
       "    </tr>\n",
       "    <tr>\n",
       "      <th>3</th>\n",
       "      <td>87940</td>\n",
       "      <td>202304</td>\n",
       "      <td>20230405</td>\n",
       "      <td>3500</td>\n",
       "    </tr>\n",
       "    <tr>\n",
       "      <th>4</th>\n",
       "      <td>87940</td>\n",
       "      <td>202304</td>\n",
       "      <td>20230405</td>\n",
       "      <td>4000</td>\n",
       "    </tr>\n",
       "  </tbody>\n",
       "</table>\n",
       "</div>"
      ],
      "text/plain": [
       "     idx proc_ym  proc_ymd point\n",
       "0  96465  202306  20230624  1000\n",
       "1  96465  202306  20230624   500\n",
       "2  87940  202304  20230405  2000\n",
       "3  87940  202304  20230405  3500\n",
       "4  87940  202304  20230405  4000"
      ]
     },
     "execution_count": 7,
     "metadata": {},
     "output_type": "execute_result"
    }
   ],
   "source": [
    "## point_his.parquet 파일 -> DataFrame 변경 -> Bigquery 테이블로 Load\n",
    "\n",
    "point_his = pd.read_parquet('dataset/point_his.parquet')\n",
    "\n",
    "point_his.head()"
   ]
  },
  {
   "cell_type": "code",
   "execution_count": 8,
   "metadata": {},
   "outputs": [],
   "source": [
    "point_his.to_gbq(\n",
    "    destination_table=\"sprint_pokemon.point_his\",\n",
    "    project_id=project_id,\n",
    "    location=location,\n",
    "    if_exists='replace',\n",
    "    credentials=credentials\n",
    ")"
   ]
  },
  {
   "cell_type": "markdown",
   "metadata": {},
   "source": [
    "## 2. google-cloud-bigquery 라이브러리를 활용하여 BigQuery 다루기"
   ]
  },
  {
   "cell_type": "markdown",
   "metadata": {},
   "source": [
    "#### 2-1) GCP 권한 인증 및 Client 생성\n",
    "- Client - BigQuery에 사용자가 내린 명령을 API로 전달하고 결과를 가져오는 역할"
   ]
  },
  {
   "cell_type": "code",
   "execution_count": 2,
   "metadata": {},
   "outputs": [],
   "source": [
    "# 현재 작업중인 노트북을 기준으로 상대경로 입력\n",
    "JSON_KEY_PATH = \"sa_key/sprintda05_DE_key.json\"\n",
    "\n",
    "credentials = service_account.Credentials.from_service_account_file(JSON_KEY_PATH)\n",
    "project_id = 'sprintda05-hyunsoo'\n",
    "dataset = 'sprint_pokemon'\n",
    "location = 'asia-northeast3'"
   ]
  },
  {
   "cell_type": "code",
   "execution_count": 3,
   "metadata": {},
   "outputs": [],
   "source": [
    "client = bigquery.Client(\n",
    "    project=project_id,\n",
    "    location=location,\n",
    "    credentials=credentials\n",
    ")"
   ]
  },
  {
   "cell_type": "markdown",
   "metadata": {},
   "source": [
    "#### 2-2) Dataset 관련 실습"
   ]
  },
  {
   "cell_type": "code",
   "execution_count": 27,
   "metadata": {},
   "outputs": [
    {
     "data": {
      "text/plain": [
       "Dataset(DatasetReference('sprintda05-hyunsoo', 'python_dataset'))"
      ]
     },
     "execution_count": 27,
     "metadata": {},
     "output_type": "execute_result"
    }
   ],
   "source": [
    "## dataset 생성\n",
    "dataset_name = 'python_dataset'\n",
    "\n",
    "dataset_obj = bigquery.Dataset(f\"{project_id}.{dataset_name}\")\n",
    "\n",
    "client.create_dataset(\n",
    "    dataset=dataset_obj,\n",
    "    exists_ok=True\n",
    ")"
   ]
  },
  {
   "cell_type": "code",
   "execution_count": 19,
   "metadata": {},
   "outputs": [
    {
     "name": "stdout",
     "output_type": "stream",
     "text": [
      "python_dataset\n",
      "sprint_pokemon\n"
     ]
    }
   ],
   "source": [
    "## dataset 목록 조회\n",
    "\n",
    "for dataset in client.list_datasets():\n",
    "    print(dataset.dataset_id)"
   ]
  },
  {
   "cell_type": "code",
   "execution_count": 20,
   "metadata": {},
   "outputs": [],
   "source": [
    "## 데이터셋 삭제\n",
    "\n",
    "client.delete_dataset(\n",
    "    dataset=f\"{project_id}.{dataset_name}\",\n",
    "    not_found_ok=True\n",
    ")"
   ]
  },
  {
   "cell_type": "code",
   "execution_count": null,
   "metadata": {},
   "outputs": [
    {
     "data": {
      "text/plain": [
       "['SCOPE',\n",
       " '_SET_PROJECT',\n",
       " '__annotations__',\n",
       " '__class__',\n",
       " '__delattr__',\n",
       " '__dict__',\n",
       " '__dir__',\n",
       " '__doc__',\n",
       " '__enter__',\n",
       " '__eq__',\n",
       " '__exit__',\n",
       " '__format__',\n",
       " '__ge__',\n",
       " '__getattribute__',\n",
       " '__getstate__',\n",
       " '__gt__',\n",
       " '__hash__',\n",
       " '__init__',\n",
       " '__init_subclass__',\n",
       " '__le__',\n",
       " '__lt__',\n",
       " '__module__',\n",
       " '__ne__',\n",
       " '__new__',\n",
       " '__reduce__',\n",
       " '__reduce_ex__',\n",
       " '__repr__',\n",
       " '__setattr__',\n",
       " '__sizeof__',\n",
       " '__str__',\n",
       " '__subclasshook__',\n",
       " '__weakref__',\n",
       " '_call_api',\n",
       " '_client_cert_source',\n",
       " '_connection',\n",
       " '_credentials',\n",
       " '_dataset_from_arg',\n",
       " '_default_load_job_config',\n",
       " '_default_query_job_config',\n",
       " '_determine_default',\n",
       " '_do_multipart_upload',\n",
       " '_do_resumable_upload',\n",
       " '_ensure_bqstorage_client',\n",
       " '_get_query_results',\n",
       " '_http',\n",
       " '_http_internal',\n",
       " '_initiate_resumable_upload',\n",
       " '_list_rows_from_query_results',\n",
       " '_location',\n",
       " '_schema_from_json_file_object',\n",
       " '_schema_to_json_file_object',\n",
       " 'cancel_job',\n",
       " 'close',\n",
       " 'copy_table',\n",
       " 'create_dataset',\n",
       " 'create_job',\n",
       " 'create_routine',\n",
       " 'create_table',\n",
       " 'dataset',\n",
       " 'default_load_job_config',\n",
       " 'default_query_job_config',\n",
       " 'delete_dataset',\n",
       " 'delete_job_metadata',\n",
       " 'delete_model',\n",
       " 'delete_routine',\n",
       " 'delete_table',\n",
       " 'extract_table',\n",
       " 'from_service_account_info',\n",
       " 'from_service_account_json',\n",
       " 'get_dataset',\n",
       " 'get_iam_policy',\n",
       " 'get_job',\n",
       " 'get_model',\n",
       " 'get_routine',\n",
       " 'get_service_account_email',\n",
       " 'get_table',\n",
       " 'insert_rows',\n",
       " 'insert_rows_from_dataframe',\n",
       " 'insert_rows_json',\n",
       " 'job_from_resource',\n",
       " 'list_datasets',\n",
       " 'list_jobs',\n",
       " 'list_models',\n",
       " 'list_partitions',\n",
       " 'list_projects',\n",
       " 'list_routines',\n",
       " 'list_rows',\n",
       " 'list_tables',\n",
       " 'load_table_from_dataframe',\n",
       " 'load_table_from_file',\n",
       " 'load_table_from_json',\n",
       " 'load_table_from_uri',\n",
       " 'location',\n",
       " 'project',\n",
       " 'query',\n",
       " 'query_and_wait',\n",
       " 'schema_from_json',\n",
       " 'schema_to_json',\n",
       " 'set_iam_policy',\n",
       " 'test_iam_permissions',\n",
       " 'update_dataset',\n",
       " 'update_model',\n",
       " 'update_routine',\n",
       " 'update_table']"
      ]
     },
     "execution_count": 21,
     "metadata": {},
     "output_type": "execute_result"
    }
   ],
   "source": [
    "## 해당 객체가 사용할 수 있는 메소드를 모두 다 출력!\n",
    "\n",
    "dir(client)"
   ]
  },
  {
   "cell_type": "markdown",
   "metadata": {},
   "source": [
    "#### 2-3) Table 관련 실습"
   ]
  },
  {
   "cell_type": "code",
   "execution_count": 23,
   "metadata": {},
   "outputs": [
    {
     "name": "stdout",
     "output_type": "stream",
     "text": [
      "item_his\n",
      "member\n",
      "point_his\n",
      "pokemon\n"
     ]
    }
   ],
   "source": [
    "## 테이블 목록 조회\n",
    "\n",
    "for table in client.list_tables(dataset='sprint_pokemon'):\n",
    "    print(table.table_id)"
   ]
  },
  {
   "cell_type": "code",
   "execution_count": 26,
   "metadata": {},
   "outputs": [
    {
     "data": {
      "text/html": [
       "<div>\n",
       "<style scoped>\n",
       "    .dataframe tbody tr th:only-of-type {\n",
       "        vertical-align: middle;\n",
       "    }\n",
       "\n",
       "    .dataframe tbody tr th {\n",
       "        vertical-align: top;\n",
       "    }\n",
       "\n",
       "    .dataframe thead th {\n",
       "        text-align: right;\n",
       "    }\n",
       "</style>\n",
       "<table border=\"1\" class=\"dataframe\">\n",
       "  <thead>\n",
       "    <tr style=\"text-align: right;\">\n",
       "      <th></th>\n",
       "      <th>idx</th>\n",
       "      <th>proc_ym</th>\n",
       "      <th>proc_ymd</th>\n",
       "      <th>point</th>\n",
       "    </tr>\n",
       "  </thead>\n",
       "  <tbody>\n",
       "    <tr>\n",
       "      <th>0</th>\n",
       "      <td>87376</td>\n",
       "      <td>202304</td>\n",
       "      <td>20230401</td>\n",
       "      <td>1000</td>\n",
       "    </tr>\n",
       "    <tr>\n",
       "      <th>1</th>\n",
       "      <td>87599</td>\n",
       "      <td>202304</td>\n",
       "      <td>20230401</td>\n",
       "      <td>1000</td>\n",
       "    </tr>\n",
       "    <tr>\n",
       "      <th>2</th>\n",
       "      <td>87682</td>\n",
       "      <td>202304</td>\n",
       "      <td>20230401</td>\n",
       "      <td>1000</td>\n",
       "    </tr>\n",
       "    <tr>\n",
       "      <th>3</th>\n",
       "      <td>87555</td>\n",
       "      <td>202304</td>\n",
       "      <td>20230401</td>\n",
       "      <td>1000</td>\n",
       "    </tr>\n",
       "    <tr>\n",
       "      <th>4</th>\n",
       "      <td>87569</td>\n",
       "      <td>202304</td>\n",
       "      <td>20230401</td>\n",
       "      <td>1000</td>\n",
       "    </tr>\n",
       "  </tbody>\n",
       "</table>\n",
       "</div>"
      ],
      "text/plain": [
       "     idx proc_ym  proc_ymd point\n",
       "0  87376  202304  20230401  1000\n",
       "1  87599  202304  20230401  1000\n",
       "2  87682  202304  20230401  1000\n",
       "3  87555  202304  20230401  1000\n",
       "4  87569  202304  20230401  1000"
      ]
     },
     "execution_count": 26,
     "metadata": {},
     "output_type": "execute_result"
    }
   ],
   "source": [
    "## 테이블 조회 (BigQuery 테이블 -> DataFrame)\n",
    "\n",
    "table_obj = client.query(\n",
    "    query=\"SELECT * FROM sprint_pokemon.point_his\",\n",
    "    project=project_id,\n",
    "    location=location\n",
    ")\n",
    "\n",
    "table_obj.to_dataframe().head()"
   ]
  },
  {
   "cell_type": "code",
   "execution_count": null,
   "metadata": {},
   "outputs": [
    {
     "data": {
      "text/plain": [
       "CopyJob<project=sprintda05-hyunsoo, location=asia-northeast3, id=4fdc8119-0b63-49e5-a6fc-b94fbc8ab62c>"
      ]
     },
     "execution_count": 28,
     "metadata": {},
     "output_type": "execute_result"
    }
   ],
   "source": [
    "## 테이블을 다른 dataset으로 복제\n",
    "## sprint_pokemon.member -> python_dataset.member\n",
    "def copy_tbl_func():\n",
    "    client.copy_table(\n",
    "        sources=\"sprint_pokemon.member\",\n",
    "        destination=\"python_dataset.member\"\n",
    "    )"
   ]
  },
  {
   "cell_type": "code",
   "execution_count": 30,
   "metadata": {},
   "outputs": [
    {
     "data": {
      "text/plain": [
       "LoadJob<project=sprintda05-hyunsoo, location=asia-northeast3, id=8e5e1dff-80e7-4433-a934-d4a52a389912>"
      ]
     },
     "execution_count": 30,
     "metadata": {},
     "output_type": "execute_result"
    }
   ],
   "source": [
    "## dataframe -> Bigquery Table (to_gbq랑 비슷)\n",
    "\n",
    "regdate = pd.read_parquet('dataset/regdate.parquet')\n",
    "\n",
    "client.load_table_from_dataframe(\n",
    "    dataframe=regdate,\n",
    "    destination=\"sprint_pokemon.regdate\"\n",
    ")"
   ]
  },
  {
   "cell_type": "code",
   "execution_count": 31,
   "metadata": {},
   "outputs": [],
   "source": [
    "## 테이블 삭제\n",
    "\n",
    "client.delete_table(\n",
    "    table=\"sprint_pokemon.regdate\",\n",
    "    not_found_ok=True\n",
    ")"
   ]
  },
  {
   "cell_type": "markdown",
   "metadata": {},
   "source": [
    "#### 2-4) 실습 미션 - 1"
   ]
  },
  {
   "cell_type": "code",
   "execution_count": null,
   "metadata": {},
   "outputs": [],
   "source": [
    "\"\"\"\n",
    "dataset/ 디렉토리 아래의 5개 parquet 파일을 대상으로 작업.\n",
    "\n",
    "- 데이터셋 ID : education\n",
    "- 테이블명 : 파일명과 동일\n",
    "- 요구사항\n",
    "    1. bigquery client를 활용하여 작업해주세요\n",
    "    2. 'education' 이라는 이름의 새로운 데이터셋을 생성해주세요.\n",
    "    3. 해당 데이터셋 내부에 5개의 테이블을 저장해주세요.\n",
    "    4. 'python_dataset' 데이터셋으로 member 제외 나머지 테이블 복사.\n",
    "    \n",
    "- 권장 사항!\n",
    "  - 3번, 4번을 for문 써서 어떻게 구현할 수 있을지 고민!\n",
    "\"\"\""
   ]
  },
  {
   "cell_type": "code",
   "execution_count": 15,
   "metadata": {},
   "outputs": [
    {
     "data": {
      "text/plain": [
       "Dataset(DatasetReference('sprintda05-hyunsoo', 'education'))"
      ]
     },
     "execution_count": 15,
     "metadata": {},
     "output_type": "execute_result"
    }
   ],
   "source": [
    "## dataset 생성\n",
    "dataset_name = 'education'\n",
    "\n",
    "dataset_obj = bigquery.Dataset(f\"{project_id}.{dataset_name}\")\n",
    "\n",
    "client.create_dataset(\n",
    "    dataset=dataset_obj,\n",
    "    exists_ok=True\n",
    ")"
   ]
  },
  {
   "cell_type": "code",
   "execution_count": 20,
   "metadata": {},
   "outputs": [
    {
     "name": "stdout",
     "output_type": "stream",
     "text": [
      "member\n",
      "item_his\n",
      "point_his\n",
      "regdate\n",
      "study_his\n"
     ]
    }
   ],
   "source": [
    "import os\n",
    "\n",
    "for file in os.listdir('dataset'):\n",
    "    # df 생성\n",
    "    df = pd.read_parquet(f\"dataset/{file}\")\n",
    "    \n",
    "    # 테이블 이름 생성\n",
    "    table_name = file.replace('.parquet', '')\n",
    "    print(table_name)\n",
    "\n",
    "    # 테이블을 Bigquery로 Load\n",
    "    client.load_table_from_dataframe(\n",
    "        dataframe=df,\n",
    "        destination=f\"education.{table_name}\"\n",
    "    )"
   ]
  },
  {
   "cell_type": "code",
   "execution_count": 22,
   "metadata": {},
   "outputs": [
    {
     "name": "stdout",
     "output_type": "stream",
     "text": [
      "item_his\n",
      "point_his\n",
      "regdate\n",
      "study_his\n"
     ]
    }
   ],
   "source": [
    "for table in client.list_tables(dataset='education'):\n",
    "    table_name = table.table_id\n",
    "    \n",
    "    \"\"\"\n",
    "    테이블 이름이 member가 아닌 경우에만 copy_table 함수 적용\n",
    "    \"\"\"\n",
    "    if table_name != 'member':\n",
    "        print(table_name)\n",
    "        client.copy_table(\n",
    "            sources=f\"education.{table_name}\",\n",
    "            destination=f\"python_dataset.{table_name}\"\n",
    "        )"
   ]
  },
  {
   "cell_type": "markdown",
   "metadata": {},
   "source": [
    "#### 2-5) BigQuery 테이블 → GCS의 파일로 저장"
   ]
  },
  {
   "cell_type": "code",
   "execution_count": null,
   "metadata": {},
   "outputs": [],
   "source": [
    "# 저장소 관리자\n",
    "\n",
    "# Storage Admin"
   ]
  },
  {
   "cell_type": "code",
   "execution_count": 4,
   "metadata": {},
   "outputs": [
    {
     "data": {
      "text/plain": [
       "ExtractJob<project=sprintda05-hyunsoo, location=asia-northeast3, id=5c4a9a9e-c9d2-40aa-98a7-baafc6acc5bc>"
      ]
     },
     "execution_count": 4,
     "metadata": {},
     "output_type": "execute_result"
    }
   ],
   "source": [
    "## CSV 파일로 저장\n",
    "# education.point_his -> GCS 버킷에 저장!\n",
    "\n",
    "bucket_name = \"sprintda05-hyunsoo-bucket\"\n",
    "\n",
    "client.extract_table(\n",
    "    source=\"education.point_his\",\n",
    "    destination_uris=f\"gs://{bucket_name}/edu_dataset/point_his.csv\"\n",
    ")"
   ]
  },
  {
   "cell_type": "code",
   "execution_count": null,
   "metadata": {},
   "outputs": [
    {
     "data": {
      "text/plain": [
       "ExtractJob<project=sprintda05-hyunsoo, location=asia-northeast3, id=4f6553af-e2e3-4b96-8cf5-000b17a9ce22>"
      ]
     },
     "execution_count": 5,
     "metadata": {},
     "output_type": "execute_result"
    }
   ],
   "source": [
    "## 압축 파일로 저장\n",
    "\n",
    "job_config = bigquery.job.ExtractJobConfig()\n",
    "job_config.compression = bigquery.Compression.GZIP\n",
    "\n",
    "client.extract_table(\n",
    "    source=\"education.point_his\",\n",
    "    destination_uris=f\"gs://{bucket_name}/edu_dataset/point_his.csv.gz\",\n",
    "    job_config=job_config\n",
    ")"
   ]
  },
  {
   "cell_type": "markdown",
   "metadata": {},
   "source": [
    "#### 2-6) GCS의 파일 → BigQuery 테이블로 Load"
   ]
  },
  {
   "cell_type": "code",
   "execution_count": 6,
   "metadata": {},
   "outputs": [
    {
     "data": {
      "text/plain": [
       "LoadJob<project=sprintda05-hyunsoo, location=asia-northeast3, id=d807fbc1-f5c8-4be4-acf5-93a110e9cc08>"
      ]
     },
     "execution_count": 6,
     "metadata": {},
     "output_type": "execute_result"
    }
   ],
   "source": [
    "## CSV 파일 \n",
    "\n",
    "job_config = bigquery.LoadJobConfig(\n",
    "    skip_leading_rows=1,\n",
    "    autodetect=True,\n",
    "    source_format=bigquery.SourceFormat.CSV\n",
    "    )\n",
    "\n",
    "client.load_table_from_uri(\n",
    "    source_uris=\"gs://sprintda05-hyunsoo-bucket/edu_dataset/point_his.csv\",\n",
    "    destination=\"education.point_his_gcs\",\n",
    "    job_config=job_config\n",
    ")"
   ]
  },
  {
   "cell_type": "code",
   "execution_count": 8,
   "metadata": {},
   "outputs": [
    {
     "data": {
      "text/plain": [
       "LoadJob<project=sprintda05-hyunsoo, location=asia-northeast3, id=2cbb21de-6a99-485d-998a-ee38082c0643>"
      ]
     },
     "execution_count": 8,
     "metadata": {},
     "output_type": "execute_result"
    }
   ],
   "source": [
    "## parquet 파일\n",
    "\n",
    "job_config = bigquery.LoadJobConfig(\n",
    "    autodetect=True,\n",
    "    source_format=bigquery.SourceFormat.PARQUET\n",
    "    )\n",
    "\n",
    "client.load_table_from_uri(\n",
    "    source_uris=\"gs://sprintda05-hyunsoo-bucket/bigquery_data/item_his.parquet\",\n",
    "    destination=\"education.item_his_gcs\",\n",
    "    job_config=job_config\n",
    ")\n"
   ]
  },
  {
   "cell_type": "code",
   "execution_count": 15,
   "metadata": {},
   "outputs": [],
   "source": [
    "import os\n",
    "import pandas as pd\n",
    "\n",
    "\n",
    "df = pd.read_parquet(\"dataset/study_his.parquet\")\n",
    "\n",
    "df['proc_ymd'] = pd.to_datetime(df['proc_ymd'].astype(str), format='%Y%m%d')"
   ]
  },
  {
   "cell_type": "code",
   "execution_count": 17,
   "metadata": {},
   "outputs": [],
   "source": [
    "date_range = pd.date_range(start='2023-04-01', end='2023-04-30')\n",
    "\n",
    "base_path = os.getcwd()\n",
    "\n",
    "for date in date_range:\n",
    "    filtered_df = df[df['proc_ymd'] == date]\n",
    "    if not filtered_df.empty:\n",
    "        yyyy = f\"yyyy={date.year}\"\n",
    "        mm = f\"mm={date.strftime('%m')}\"\n",
    "        dd = f\"dd={date.strftime('%d')}\"\n",
    "        \n",
    "        dir_path = os.path.join(base_path, 'gcp_part_parquet', yyyy, mm, dd)\n",
    "        os.makedirs(dir_path, exist_ok=True)\n",
    "        \n",
    "        file_path = os.path.join(dir_path, \"data.parquet\")\n",
    "        filtered_df.to_parquet(file_path, index=False, engine='pyarrow', compression='gzip') "
   ]
  },
  {
   "cell_type": "code",
   "execution_count": null,
   "metadata": {},
   "outputs": [],
   "source": []
  },
  {
   "cell_type": "code",
   "execution_count": null,
   "metadata": {},
   "outputs": [],
   "source": []
  }
 ],
 "metadata": {
  "kernelspec": {
   "display_name": "Python 3",
   "language": "python",
   "name": "python3"
  },
  "language_info": {
   "codemirror_mode": {
    "name": "ipython",
    "version": 3
   },
   "file_extension": ".py",
   "mimetype": "text/x-python",
   "name": "python",
   "nbconvert_exporter": "python",
   "pygments_lexer": "ipython3",
   "version": "3.12.3"
  }
 },
 "nbformat": 4,
 "nbformat_minor": 2
}
