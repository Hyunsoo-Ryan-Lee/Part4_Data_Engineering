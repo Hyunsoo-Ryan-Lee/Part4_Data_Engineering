{
 "cells": [
  {
   "cell_type": "code",
   "execution_count": null,
   "id": "ab91c98a",
   "metadata": {},
   "outputs": [],
   "source": [
    "\"\"\"\n",
    "데이터를 MYSQL에서 불러온다.(E)\n",
    "\n",
    "데이터 가공 (T)\n",
    "\n",
    "데이터를 Postgres에 저장 (L)\n",
    "\"\"\""
   ]
  },
  {
   "cell_type": "markdown",
   "id": "984215ac",
   "metadata": {},
   "source": [
    "## 1. 절차 지향적 데이터 파이프라인 설계"
   ]
  },
  {
   "cell_type": "code",
   "execution_count": 1,
   "id": "b35f6baf",
   "metadata": {},
   "outputs": [
    {
     "data": {
      "text/plain": [
       "{'mysql_params': {'engine_name': 'mysql+pymysql',\n",
       "  'user': 'root',\n",
       "  'password': '123456',\n",
       "  'host': 'localhost',\n",
       "  'port': '3300',\n",
       "  'database': 'docker_mysql'},\n",
       " 'pg_params': {'engine_name': 'postgresql',\n",
       "  'user': 'codeit',\n",
       "  'password': 'sprint',\n",
       "  'host': 'localhost',\n",
       "  'port': '5430',\n",
       "  'database': 'docker_postgres'}}"
      ]
     },
     "execution_count": 1,
     "metadata": {},
     "output_type": "execute_result"
    }
   ],
   "source": [
    "import dotenv\n",
    "import os\n",
    "\n",
    "env_path = dotenv.find_dotenv()\n",
    "dotenv.load_dotenv(env_path)\n",
    "\n",
    "DB_SETTINGS = dict(\n",
    "    mysql_params = dict(\n",
    "        engine_name = os.getenv('MYSQL_ENGINE_NAME', \"\"),\n",
    "        user = os.getenv('MYSQL_USER', \"\"),\n",
    "        password = os.getenv('MYSQL_PASSWORD', \"\"),\n",
    "        host = os.getenv('MYSQL_HOST', \"\"),\n",
    "        port = os.getenv('MYSQL_PORT', \"\"),\n",
    "        database = os.getenv('MYSQL_DATABASE', \"\")\n",
    "    ),\n",
    "    pg_params = dict(\n",
    "        engine_name = os.getenv('PG_ENGINE_NAME', \"\"),\n",
    "        user = os.getenv('PG_USER', \"\"),\n",
    "        password = os.getenv('PG_PASSWORD', \"\"),\n",
    "        host = os.getenv('PG_HOST', \"\"),\n",
    "        port = os.getenv('PG_PORT', \"\"),\n",
    "        database = os.getenv('PG_DATABASE', \"\")\n",
    "    )\n",
    ")\n",
    "\n",
    "DB_SETTINGS"
   ]
  },
  {
   "cell_type": "code",
   "execution_count": null,
   "id": "e2c0a71a",
   "metadata": {},
   "outputs": [],
   "source": [
    "import pymysql, psycopg2\n",
    "from sqlalchemy import create_engine\n",
    "\n",
    "class DBConnector:\n",
    "    def __init__(self, engine_name, user, password, host, port, database):\n",
    "        self.engine_name = engine_name\n",
    "        self.user = user\n",
    "        self.password = password\n",
    "        self.host = host\n",
    "        self.port = port\n",
    "        self.database = database\n",
    "        \n",
    "    # PYMYSQL 연결\n",
    "    # DDL, DCL, DML -> MYSQL\n",
    "    def pymysql_connection(self):\n",
    "        pymysql_conn = pymysql.connect(\n",
    "            user=self.user,\n",
    "            password=self.password,\n",
    "            host=self.host,\n",
    "            port=int(self.port),\n",
    "            database=self.database,\n",
    "            charset='utf8'\n",
    "            )\n",
    "        return pymysql_conn\n",
    "    \n",
    "    # PSYCOPG2 연결\n",
    "    # DDL, DCL, DML -> PG\n",
    "    def psycopg2_connection(self):\n",
    "        psycopg2_conn = psycopg2.connect(\n",
    "            user=self.user,\n",
    "            password=self.password,\n",
    "            host=self.host,\n",
    "            port=self.port,\n",
    "            dbname=self.database,\n",
    "            )\n",
    "        return psycopg2_conn\n",
    "    \n",
    "    # SQLALCHEMY 연결\n",
    "    # DDL, DCL, DML -> MYSQL, PG .....\n",
    "    # 테이블을 PANDAS DF로 다루고 싶다! (read_sql, to_sql)\n",
    "    def sqlalchemy_connection(self):\n",
    "        sqlalchemy_conn = create_engine(f\"{self.engine_name}://{self.user}:{self.password}@{self.host}:{self.port}/{self.database}\")\n",
    "        \n",
    "        return sqlalchemy_conn\n",
    "        "
   ]
  },
  {
   "cell_type": "code",
   "execution_count": null,
   "id": "5aceae03",
   "metadata": {},
   "outputs": [],
   "source": []
  },
  {
   "cell_type": "code",
   "execution_count": null,
   "id": "7e5d64df",
   "metadata": {},
   "outputs": [],
   "source": []
  },
  {
   "cell_type": "code",
   "execution_count": null,
   "id": "fab2cf57",
   "metadata": {},
   "outputs": [],
   "source": []
  },
  {
   "cell_type": "code",
   "execution_count": null,
   "id": "824fc6b0",
   "metadata": {},
   "outputs": [],
   "source": []
  }
 ],
 "metadata": {
  "kernelspec": {
   "display_name": "sprint_part4",
   "language": "python",
   "name": "python3"
  },
  "language_info": {
   "codemirror_mode": {
    "name": "ipython",
    "version": 3
   },
   "file_extension": ".py",
   "mimetype": "text/x-python",
   "name": "python",
   "nbconvert_exporter": "python",
   "pygments_lexer": "ipython3",
   "version": "3.12.4"
  }
 },
 "nbformat": 4,
 "nbformat_minor": 5
}
